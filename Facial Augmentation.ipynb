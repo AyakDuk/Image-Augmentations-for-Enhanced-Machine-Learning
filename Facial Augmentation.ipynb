{
 "cells": [
  {
   "cell_type": "code",
   "metadata": {
    "ExecuteTime": {
     "end_time": "2025-03-14T09:11:39.794842Z",
     "start_time": "2025-03-14T09:11:39.325086Z"
    }
   },
   "source": [
    "import os\n",
    "import random\n",
    "import cv2\n",
    "import numpy as np\n",
    "import matplotlib.pyplot as plt\n",
    "import tensorflow as tf\n",
    "from tensorflow.keras.preprocessing.image import ImageDataGenerator\n",
    "\n",
    "# Define dataset path \n",
    "DATASET_PATH = \"Dataset\"\n",
    "# List all images\n",
    "all_images = []\n",
    "for root, _, files in os.walk(DATASET_PATH):\n",
    "    for file in files:\n",
    "        if file.endswith(('.jpg', '.png', '.jpeg')):\n",
    "            all_images.append(os.path.join(root, file))\n",
    "\n",
    "# Randomly select 5 images for augmentation\n",
    "random_images = random.sample(all_images, 5)\n",
    "\n",
    "# Function to load images\n",
    "def load_image(image_path):\n",
    "    img = cv2.imread(image_path)\n",
    "    img = cv2.cvtColor(img, cv2.COLOR_BGR2RGB)  # Convert to RGB\n",
    "    img = cv2.resize(img, (128, 128))  # Resize for uniformity\n",
    "    return img\n",
    "\n",
    "# Define augmentation transformations using TensorFlow/Keras\n",
    "data_gen = ImageDataGenerator(\n",
    "    rotation_range=30,  # Rotation up to 30 degrees\n",
    "    horizontal_flip=True,  # Flip horizontally\n",
    "    brightness_range=[0.5, 1.5],  # Adjust brightness\n",
    "    zoom_range=0.2  # Zoom in by 20%\n",
    ")\n",
    "\n",
    "def add_gaussian_noise(image):\n",
    "    \"\"\"Add random Gaussian noise to an image\"\"\"\n",
    "    row, col, ch = image.shape\n",
    "    mean = 0\n",
    "    sigma = 25  # Standard deviation for noise\n",
    "    gauss = np.random.normal(mean, sigma, (row, col, ch)).astype(np.uint8)\n",
    "    noisy_image = cv2.add(image, gauss)\n",
    "    return np.clip(noisy_image, 0, 255)  # Ensure pixel values remain valid\n",
    "\n",
    "# Plot original and augmented images\n",
    "fig, axes = plt.subplots(5, 6, figsize=(15, 12))\n",
    "axes = axes.flatten()\n",
    "\n",
    "for idx, image_path in enumerate(random_images):\n",
    "    # Load original image\n",
    "    original_img = load_image(image_path)\n",
    "    \n",
    "    # Apply augmentations\n",
    "    augmented_images = []\n",
    "    \n",
    "    # Rotation\n",
    "    rotated_img = data_gen.random_transform(original_img)  # Apply random rotation\n",
    "    augmented_images.append(rotated_img)\n",
    "    \n",
    "    # Horizontal Flip\n",
    "    flipped_img = cv2.flip(original_img, 1)  # 1 = horizontal flip\n",
    "    augmented_images.append(flipped_img)\n",
    "    \n",
    "    # Brightness Adjustment\n",
    "    brightness_img = data_gen.random_transform(original_img)  # Apply random brightness adjustment\n",
    "    augmented_images.append(brightness_img)\n",
    "    \n",
    "    # Zoom\n",
    "    zoom_img = data_gen.random_transform(original_img)  # Apply random zoom\n",
    "    augmented_images.append(zoom_img)\n",
    "    \n",
    "    # Gaussian Noise\n",
    "    noisy_img = add_gaussian_noise(original_img)\n",
    "    augmented_images.append(noisy_img)\n",
    "    \n",
    "    # Plot original image\n",
    "    axes[idx * 6].imshow(original_img)\n",
    "    axes[idx * 6].set_title(\"Original\")\n",
    "    \n",
    "    # Plot augmented images\n",
    "    titles = [\"Rotated\", \"Flipped\", \"Brightness\", \"Zoom\", \"Noise\"]\n",
    "    for j, aug_img in enumerate(augmented_images):\n",
    "        axes[idx * 6 + j + 1].imshow(aug_img.astype(np.uint8))\n",
    "        axes[idx * 6 + j + 1].set_title(titles[j])\n",
    "\n",
    "# Hide axes\n",
    "for ax in axes:\n",
    "    ax.axis(\"off\")\n",
    "\n",
    "plt.tight_layout()\n",
    "plt.show()"
   ],
   "outputs": [
    {
     "ename": "ModuleNotFoundError",
     "evalue": "No module named 'cv2'",
     "output_type": "error",
     "traceback": [
      "\u001B[31m---------------------------------------------------------------------------\u001B[39m",
      "\u001B[31mModuleNotFoundError\u001B[39m                       Traceback (most recent call last)",
      "\u001B[36mCell\u001B[39m\u001B[36m \u001B[39m\u001B[32mIn[1]\u001B[39m\u001B[32m, line 3\u001B[39m\n\u001B[32m      1\u001B[39m \u001B[38;5;28;01mimport\u001B[39;00m\u001B[38;5;250m \u001B[39m\u001B[34;01mos\u001B[39;00m\n\u001B[32m      2\u001B[39m \u001B[38;5;28;01mimport\u001B[39;00m\u001B[38;5;250m \u001B[39m\u001B[34;01mrandom\u001B[39;00m\n\u001B[32m----> \u001B[39m\u001B[32m3\u001B[39m \u001B[38;5;28;01mimport\u001B[39;00m\u001B[38;5;250m \u001B[39m\u001B[34;01mcv2\u001B[39;00m\n\u001B[32m      4\u001B[39m \u001B[38;5;28;01mimport\u001B[39;00m\u001B[38;5;250m \u001B[39m\u001B[34;01mnumpy\u001B[39;00m\u001B[38;5;250m \u001B[39m\u001B[38;5;28;01mas\u001B[39;00m\u001B[38;5;250m \u001B[39m\u001B[34;01mnp\u001B[39;00m\n\u001B[32m      5\u001B[39m \u001B[38;5;28;01mimport\u001B[39;00m\u001B[38;5;250m \u001B[39m\u001B[34;01mmatplotlib\u001B[39;00m\u001B[34;01m.\u001B[39;00m\u001B[34;01mpyplot\u001B[39;00m\u001B[38;5;250m \u001B[39m\u001B[38;5;28;01mas\u001B[39;00m\u001B[38;5;250m \u001B[39m\u001B[34;01mplt\u001B[39;00m\n",
      "\u001B[31mModuleNotFoundError\u001B[39m: No module named 'cv2'"
     ]
    }
   ],
   "execution_count": 1
  },
  {
   "metadata": {},
   "cell_type": "code",
   "outputs": [],
   "execution_count": null,
   "source": ""
  }
 ],
 "metadata": {
  "kernelspec": {
   "display_name": "MyEnv",
   "language": "python",
   "name": "python3"
  },
  "language_info": {
   "codemirror_mode": {
    "name": "ipython",
    "version": 3
   },
   "file_extension": ".py",
   "mimetype": "text/x-python",
   "name": "python",
   "nbconvert_exporter": "python",
   "pygments_lexer": "ipython3",
   "version": "3.10.11"
  }
 },
 "nbformat": 4,
 "nbformat_minor": 2
}
