{
 "cells": [
  {
   "cell_type": "code",
   "execution_count": 2,
   "metadata": {},
   "outputs": [],
   "source": [
    "import os\n",
    "import numpy as np\n",
    "import tensorflow as tf\n",
    "from tensorflow.keras.preprocessing.image import ImageDataGenerator\n",
    "from sklearn.model_selection import train_test_split\n",
    "from tensorflow.keras.utils import to_categorical\n",
    "from tensorflow.keras.models import Sequential\n",
    "from tensorflow.keras.layers import Conv2D, MaxPooling2D, Flatten, Dense, Dropout\n",
    "from tensorflow.keras.utils import to_categorical\n",
    "from sklearn.model_selection import train_test_split\n",
    "import cv2"
   ]
  },
  {
   "cell_type": "code",
   "execution_count": 5,
   "metadata": {},
   "outputs": [
    {
     "name": "stdout",
     "output_type": "stream",
     "text": [
      "Train shape: (211, 128, 128, 3), (211, 3)\n",
      "Validation shape: (53, 128, 128, 3), (53, 3)\n"
     ]
    }
   ],
   "source": [
    "import os\n",
    "import numpy as np\n",
    "import tensorflow as tf\n",
    "import cv2\n",
    "from tensorflow.keras.utils import to_categorical\n",
    "from sklearn.model_selection import train_test_split\n",
    "\n",
    "# Define paths\n",
    "base_dir = 'data'\n",
    "happy_dir = os.path.join(base_dir, 'Happy')\n",
    "sad_dir = os.path.join(base_dir, 'Sad')\n",
    "angry_dir = os.path.join(base_dir, 'Angry')\n",
    "\n",
    "# Collect image paths and labels\n",
    "image_paths = []\n",
    "labels = []\n",
    "\n",
    "# Load Happy images\n",
    "for img_file in os.listdir(happy_dir):\n",
    "    if img_file.endswith(('.jpg', '.png', '.jpeg')):\n",
    "        image_paths.append(os.path.join(happy_dir, img_file))\n",
    "        labels.append(0)  # 0 for Happy\n",
    "\n",
    "# Load Sad images\n",
    "for img_file in os.listdir(sad_dir):\n",
    "    if img_file.endswith(('.jpg', '.png', '.jpeg')):\n",
    "        image_paths.append(os.path.join(sad_dir, img_file))\n",
    "        labels.append(1)  # 1 for Sad\n",
    "\n",
    "# Load Angry images\n",
    "for img_file in os.listdir(angry_dir):\n",
    "    if img_file.endswith(('.jpg', '.png', '.jpeg')):\n",
    "        image_paths.append(os.path.join(angry_dir, img_file))\n",
    "        labels.append(2)  # 2 for Angry\n",
    "\n",
    "# Convert labels to categorical (one-hot encoding)\n",
    "labels = to_categorical(labels, num_classes=3)\n",
    "\n",
    "# Define image size (resize for consistency)\n",
    "IMG_SIZE = 128\n",
    "data = []\n",
    "\n",
    "for img_path in image_paths:\n",
    "    img = cv2.imread(img_path)\n",
    "    if img is None:\n",
    "        print(f\"Warning: Couldn't read image {img_path}\")\n",
    "        continue\n",
    "    img = cv2.resize(img, (IMG_SIZE, IMG_SIZE))  # Resize images\n",
    "    img = img / 255.0  # Normalize pixel values (0 to 1)\n",
    "    data.append(img)\n",
    "\n",
    "# Convert lists to NumPy arrays\n",
    "data = np.array(data)\n",
    "\n",
    "# Ensure labels match the length of data\n",
    "labels = labels[:len(data)]\n",
    "\n",
    "# Split dataset into training and validation sets (80% train, 20% validation)\n",
    "X_train, X_val, y_train, y_val = train_test_split(data, labels, test_size=0.2, random_state=42)\n",
    "\n",
    "print(f\"Train shape: {X_train.shape}, {y_train.shape}\")\n",
    "print(f\"Validation shape: {X_val.shape}, {y_val.shape}\")\n"
   ]
  },
  {
   "cell_type": "markdown",
   "metadata": {},
   "source": [
    "#### CNN Model Training"
   ]
  },
  {
   "cell_type": "code",
   "execution_count": 6,
   "metadata": {},
   "outputs": [],
   "source": [
    "from tensorflow.keras.models import Sequential\n",
    "from tensorflow.keras.layers import Conv2D, MaxPooling2D, Flatten, Dense, Dropout\n",
    "\n",
    "def create_cnn():\n",
    "    model = Sequential([\n",
    "        Conv2D(32, (3, 3), activation='relu', input_shape=(128, 128, 3)),\n",
    "        MaxPooling2D(pool_size=(2, 2)),\n",
    "\n",
    "        Conv2D(64, (3, 3), activation='relu'),\n",
    "        MaxPooling2D(pool_size=(2, 2)),\n",
    "\n",
    "        Flatten(),\n",
    "        Dense(128, activation='relu'),\n",
    "        Dropout(0.5),  # Reduces overfitting\n",
    "        Dense(3, activation='softmax')  # 3 classes: Happy, Sad, Angry\n",
    "    ])\n",
    "\n",
    "    model.compile(optimizer='adam', loss='categorical_crossentropy', metrics=['accuracy'])\n",
    "    return model\n"
   ]
  },
  {
   "cell_type": "markdown",
   "metadata": {},
   "source": [
    "1. Train CNN Without Augmentation"
   ]
  },
  {
   "cell_type": "code",
   "execution_count": 7,
   "metadata": {},
   "outputs": [
    {
     "name": "stderr",
     "output_type": "stream",
     "text": [
      "C:\\Users\\kiplimo\\AppData\\Roaming\\Python\\Python312\\site-packages\\keras\\src\\layers\\convolutional\\base_conv.py:107: UserWarning: Do not pass an `input_shape`/`input_dim` argument to a layer. When using Sequential models, prefer using an `Input(shape)` object as the first layer in the model instead.\n",
      "  super().__init__(activity_regularizer=activity_regularizer, **kwargs)\n"
     ]
    },
    {
     "name": "stdout",
     "output_type": "stream",
     "text": [
      "Epoch 1/10\n",
      "\u001b[1m7/7\u001b[0m \u001b[32m━━━━━━━━━━━━━━━━━━━━\u001b[0m\u001b[37m\u001b[0m \u001b[1m2s\u001b[0m 193ms/step - accuracy: 0.3062 - loss: 2.3715 - val_accuracy: 0.3396 - val_loss: 1.2827\n",
      "Epoch 2/10\n",
      "\u001b[1m7/7\u001b[0m \u001b[32m━━━━━━━━━━━━━━━━━━━━\u001b[0m\u001b[37m\u001b[0m \u001b[1m1s\u001b[0m 170ms/step - accuracy: 0.3745 - loss: 1.1272 - val_accuracy: 0.5283 - val_loss: 1.0699\n",
      "Epoch 3/10\n",
      "\u001b[1m7/7\u001b[0m \u001b[32m━━━━━━━━━━━━━━━━━━━━\u001b[0m\u001b[37m\u001b[0m \u001b[1m1s\u001b[0m 167ms/step - accuracy: 0.5040 - loss: 0.9978 - val_accuracy: 0.3962 - val_loss: 1.0530\n",
      "Epoch 4/10\n",
      "\u001b[1m7/7\u001b[0m \u001b[32m━━━━━━━━━━━━━━━━━━━━\u001b[0m\u001b[37m\u001b[0m \u001b[1m1s\u001b[0m 164ms/step - accuracy: 0.6747 - loss: 0.8480 - val_accuracy: 0.4906 - val_loss: 1.0394\n",
      "Epoch 5/10\n",
      "\u001b[1m7/7\u001b[0m \u001b[32m━━━━━━━━━━━━━━━━━━━━\u001b[0m\u001b[37m\u001b[0m \u001b[1m1s\u001b[0m 158ms/step - accuracy: 0.6780 - loss: 0.6987 - val_accuracy: 0.6226 - val_loss: 0.9096\n",
      "Epoch 6/10\n",
      "\u001b[1m7/7\u001b[0m \u001b[32m━━━━━━━━━━━━━━━━━━━━\u001b[0m\u001b[37m\u001b[0m \u001b[1m1s\u001b[0m 161ms/step - accuracy: 0.9062 - loss: 0.4634 - val_accuracy: 0.5660 - val_loss: 0.9815\n",
      "Epoch 7/10\n",
      "\u001b[1m7/7\u001b[0m \u001b[32m━━━━━━━━━━━━━━━━━━━━\u001b[0m\u001b[37m\u001b[0m \u001b[1m1s\u001b[0m 161ms/step - accuracy: 0.8847 - loss: 0.3410 - val_accuracy: 0.5472 - val_loss: 1.0490\n",
      "Epoch 8/10\n",
      "\u001b[1m7/7\u001b[0m \u001b[32m━━━━━━━━━━━━━━━━━━━━\u001b[0m\u001b[37m\u001b[0m \u001b[1m1s\u001b[0m 160ms/step - accuracy: 0.9659 - loss: 0.1957 - val_accuracy: 0.5660 - val_loss: 1.1303\n",
      "Epoch 9/10\n",
      "\u001b[1m7/7\u001b[0m \u001b[32m━━━━━━━━━━━━━━━━━━━━\u001b[0m\u001b[37m\u001b[0m \u001b[1m1s\u001b[0m 170ms/step - accuracy: 0.9764 - loss: 0.1066 - val_accuracy: 0.5472 - val_loss: 1.3323\n",
      "Epoch 10/10\n",
      "\u001b[1m7/7\u001b[0m \u001b[32m━━━━━━━━━━━━━━━━━━━━\u001b[0m\u001b[37m\u001b[0m \u001b[1m1s\u001b[0m 158ms/step - accuracy: 0.9773 - loss: 0.0975 - val_accuracy: 0.6038 - val_loss: 1.2397\n"
     ]
    }
   ],
   "source": [
    "# Create the model\n",
    "model = create_cnn()\n",
    "\n",
    "# Train the model\n",
    "history = model.fit(X_train, y_train, validation_data=(X_val, y_val), epochs=10, batch_size=32)"
   ]
  },
  {
   "cell_type": "markdown",
   "metadata": {},
   "source": [
    "2. Train the CNN with Augmentation"
   ]
  },
  {
   "cell_type": "code",
   "execution_count": 9,
   "metadata": {},
   "outputs": [
    {
     "name": "stderr",
     "output_type": "stream",
     "text": [
      "C:\\Users\\kiplimo\\AppData\\Roaming\\Python\\Python312\\site-packages\\keras\\src\\layers\\convolutional\\base_conv.py:107: UserWarning: Do not pass an `input_shape`/`input_dim` argument to a layer. When using Sequential models, prefer using an `Input(shape)` object as the first layer in the model instead.\n",
      "  super().__init__(activity_regularizer=activity_regularizer, **kwargs)\n",
      "C:\\Users\\kiplimo\\AppData\\Roaming\\Python\\Python312\\site-packages\\keras\\src\\trainers\\data_adapters\\py_dataset_adapter.py:121: UserWarning: Your `PyDataset` class should call `super().__init__(**kwargs)` in its constructor. `**kwargs` can include `workers`, `use_multiprocessing`, `max_queue_size`. Do not pass these arguments to `fit()`, as they will be ignored.\n",
      "  self._warn_if_super_not_called()\n"
     ]
    },
    {
     "name": "stdout",
     "output_type": "stream",
     "text": [
      "Epoch 1/10\n",
      "\u001b[1m7/7\u001b[0m \u001b[32m━━━━━━━━━━━━━━━━━━━━\u001b[0m\u001b[37m\u001b[0m \u001b[1m3s\u001b[0m 236ms/step - accuracy: 0.3458 - loss: 1.7292 - val_accuracy: 0.3962 - val_loss: 1.0508\n",
      "Epoch 2/10\n",
      "\u001b[1m7/7\u001b[0m \u001b[32m━━━━━━━━━━━━━━━━━━━━\u001b[0m\u001b[37m\u001b[0m \u001b[1m2s\u001b[0m 207ms/step - accuracy: 0.4425 - loss: 1.0602 - val_accuracy: 0.3396 - val_loss: 1.0260\n",
      "Epoch 3/10\n",
      "\u001b[1m7/7\u001b[0m \u001b[32m━━━━━━━━━━━━━━━━━━━━\u001b[0m\u001b[37m\u001b[0m \u001b[1m2s\u001b[0m 218ms/step - accuracy: 0.4015 - loss: 1.0371 - val_accuracy: 0.3396 - val_loss: 1.0021\n",
      "Epoch 4/10\n",
      "\u001b[1m7/7\u001b[0m \u001b[32m━━━━━━━━━━━━━━━━━━━━\u001b[0m\u001b[37m\u001b[0m \u001b[1m2s\u001b[0m 207ms/step - accuracy: 0.4082 - loss: 1.0308 - val_accuracy: 0.3962 - val_loss: 1.0326\n",
      "Epoch 5/10\n",
      "\u001b[1m7/7\u001b[0m \u001b[32m━━━━━━━━━━━━━━━━━━━━\u001b[0m\u001b[37m\u001b[0m \u001b[1m1s\u001b[0m 198ms/step - accuracy: 0.3993 - loss: 1.0114 - val_accuracy: 0.3962 - val_loss: 0.9928\n",
      "Epoch 6/10\n",
      "\u001b[1m7/7\u001b[0m \u001b[32m━━━━━━━━━━━━━━━━━━━━\u001b[0m\u001b[37m\u001b[0m \u001b[1m2s\u001b[0m 204ms/step - accuracy: 0.4732 - loss: 0.9702 - val_accuracy: 0.5660 - val_loss: 0.9772\n",
      "Epoch 7/10\n",
      "\u001b[1m7/7\u001b[0m \u001b[32m━━━━━━━━━━━━━━━━━━━━\u001b[0m\u001b[37m\u001b[0m \u001b[1m2s\u001b[0m 206ms/step - accuracy: 0.5565 - loss: 0.9820 - val_accuracy: 0.5472 - val_loss: 0.9799\n",
      "Epoch 8/10\n",
      "\u001b[1m7/7\u001b[0m \u001b[32m━━━━━━━━━━━━━━━━━━━━\u001b[0m\u001b[37m\u001b[0m \u001b[1m1s\u001b[0m 214ms/step - accuracy: 0.4448 - loss: 1.0519 - val_accuracy: 0.4717 - val_loss: 0.9878\n",
      "Epoch 9/10\n",
      "\u001b[1m7/7\u001b[0m \u001b[32m━━━━━━━━━━━━━━━━━━━━\u001b[0m\u001b[37m\u001b[0m \u001b[1m1s\u001b[0m 209ms/step - accuracy: 0.4756 - loss: 0.9959 - val_accuracy: 0.4528 - val_loss: 0.9618\n",
      "Epoch 10/10\n",
      "\u001b[1m7/7\u001b[0m \u001b[32m━━━━━━━━━━━━━━━━━━━━\u001b[0m\u001b[37m\u001b[0m \u001b[1m1s\u001b[0m 195ms/step - accuracy: 0.4907 - loss: 0.9597 - val_accuracy: 0.6415 - val_loss: 0.9256\n"
     ]
    },
    {
     "data": {
      "text/plain": [
       "<keras.src.callbacks.history.History at 0x23a15c3df70>"
      ]
     },
     "execution_count": 9,
     "metadata": {},
     "output_type": "execute_result"
    }
   ],
   "source": [
    "from tensorflow.keras.preprocessing.image import ImageDataGenerator\n",
    "\n",
    "# Define augmentation\n",
    "datagen = ImageDataGenerator(\n",
    "    rotation_range=20,        # Rotate images randomly by up to 20 degrees\n",
    "    width_shift_range=0.2,    # Shift width by 20%\n",
    "    height_shift_range=0.2,   # Shift height by 20%\n",
    "    shear_range=0.2,          # Shear transformation\n",
    "    zoom_range=0.2,           # Zoom in/out\n",
    "    horizontal_flip=True,     # Flip images horizontally\n",
    "    fill_mode='nearest'       # Fill missing pixels after transformation\n",
    ")\n",
    "\n",
    "# Train with augmentation\n",
    "augmented_model = create_cnn()\n",
    "augmented_model.fit(datagen.flow(X_train, y_train, batch_size=32),\n",
    "                    validation_data=(X_val, y_val),\n",
    "                    epochs=10)\n"
   ]
  },
  {
   "cell_type": "code",
   "execution_count": 10,
   "metadata": {},
   "outputs": [
    {
     "name": "stdout",
     "output_type": "stream",
     "text": [
      "Original Model Accuracy: 0.60\n",
      "Augmented Model Accuracy: 0.64\n"
     ]
    }
   ],
   "source": [
    "original_acc = model.evaluate(X_val, y_val, verbose=0)[1]\n",
    "augmented_acc = augmented_model.evaluate(X_val, y_val, verbose=0)[1]\n",
    "\n",
    "print(f'Original Model Accuracy: {original_acc:.2f}')\n",
    "print(f'Augmented Model Accuracy: {augmented_acc:.2f}')\n"
   ]
  }
 ],
 "metadata": {
  "kernelspec": {
   "display_name": "ml_env",
   "language": "python",
   "name": "python3"
  },
  "language_info": {
   "codemirror_mode": {
    "name": "ipython",
    "version": 3
   },
   "file_extension": ".py",
   "mimetype": "text/x-python",
   "name": "python",
   "nbconvert_exporter": "python",
   "pygments_lexer": "ipython3",
   "version": "3.12.4"
  }
 },
 "nbformat": 4,
 "nbformat_minor": 2
}
